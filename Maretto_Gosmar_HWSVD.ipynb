{
  "cells": [
    {
      "cell_type": "markdown",
      "metadata": {},
      "source": [
        "# Computational Linear Algebra: Singular Value Decomposition Homework\n",
        "\n",
        "In the following homework we decided to explore the topic of *Singular Value Decomposition* used to device a Movie recommendation system like the one used nowdays by many streaming services."
      ]
    },
    {
      "cell_type": "markdown",
      "metadata": {},
      "source": [
        "## 1. Dataset Specifications\n",
        "The dataset we decided to use is the *MovieLens Dataset* which is one of the most widely used datasets for movie recommendation tasks. Such dataset contains user ratings for movies along with metadata like movie genres, titles, and timestamps.\n",
        "\n",
        "In particular, we considered the \"MovieLens 1M Dataset\", which contains 1 million ratings from 6000 users on 4000 movies. The dataset is divided into 3 main files:\n",
        "- \"ratings.dat\": which contains all the ratings\n",
        "- \"users.dat\": which contains all the user information\n",
        "- \"movies.dat\": which contains all the movie information\n",
        "\n",
        "### Ratings dataset\n",
        "All ratings are contained in the file \"ratings.dat\" and are in the following format:\n",
        "\n",
        "UserID::MovieID::Rating::Timestamp\n",
        "\n",
        "- UserIDs range between 1 and 6040 \n",
        "- MovieIDs range between 1 and 3952\n",
        "- Ratings are made on a 5-star scale (whole-star ratings only)\n",
        "- Timestamp is represented in seconds since the epoch as returned by time(2)\n",
        "- Each user has at least 20 ratings\n",
        "\n",
        "### Users dataset\n",
        "User information is in the file \"users.dat\" and is in the following format:\n",
        "\n",
        "UserID::Gender::Age::Occupation::Zip-code\n",
        "\n",
        "All demographic information is provided voluntarily by the users and is\n",
        "not checked for accuracy.  Only users who have provided some demographic\n",
        "information are included in this data set.\n",
        "\n",
        "- Gender is denoted by a \"M\" for male and \"F\" for female\n",
        "- Age is chosen from the following ranges:\n",
        "\n",
        "\t*  1:  \"Under 18\"\n",
        "\t* 18:  \"18-24\"\n",
        "\t* 25:  \"25-34\"\n",
        "\t* 35:  \"35-44\"\n",
        "\t* 45:  \"45-49\"\n",
        "\t* 50:  \"50-55\"\n",
        "\t* 56:  \"56+\"\n",
        "\n",
        "- Occupation is chosen from the following choices:\n",
        "\n",
        "\t*  0:  \"other\" or not specified\n",
        "\t*  1:  \"academic/educator\"\n",
        "\t*  2:  \"artist\"\n",
        "\t*  3:  \"clerical/admin\"\n",
        "\t*  4:  \"college/grad student\"\n",
        "\t*  5:  \"customer service\"\n",
        "\t*  6:  \"doctor/health care\"\n",
        "\t*  7:  \"executive/managerial\"\n",
        "\t*  8:  \"farmer\"\n",
        "\t*  9:  \"homemaker\"\n",
        "\t* 10:  \"K-12 student\"\n",
        "\t* 11:  \"lawyer\"\n",
        "\t* 12:  \"programmer\"\n",
        "\t* 13:  \"retired\"\n",
        "\t* 14:  \"sales/marketing\"\n",
        "\t* 15:  \"scientist\"\n",
        "\t* 16:  \"self-employed\"\n",
        "\t* 17:  \"technician/engineer\"\n",
        "\t* 18:  \"tradesman/craftsman\"\n",
        "\t* 19:  \"unemployed\"\n",
        "\t* 20:  \"writer\"\n",
        "\n",
        "### Movies dataset\n",
        "Movie information is in the file \"movies.dat\" and is in the following\n",
        "format:\n",
        "\n",
        "MovieID::Title::Genres\n",
        "\n",
        "- Titles are identical to titles provided by the IMDB (including\n",
        "year of release)\n",
        "- Genres are pipe-separated and are selected from the following genres:\n",
        "\n",
        "\t* Action\n",
        "\t* Adventure\n",
        "\t* Animation\n",
        "\t* Children's\n",
        "\t* Comedy\n",
        "\t* Crime\n",
        "\t* Documentary\n",
        "\t* Drama\n",
        "\t* Fantasy\n",
        "\t* Film-Noir\n",
        "\t* Horror\n",
        "\t* Musical\n",
        "\t* Mystery\n",
        "\t* Romance\n",
        "\t* Sci-Fi\n",
        "\t* Thriller\n",
        "\t* War\n",
        "\t* Western\n",
        "\n",
        "- Some MovieIDs do not correspond to a movie due to accidental duplicate\n",
        "entries and/or test entries\n",
        "- Movies are mostly entered by hand, so errors and inconsistencies may exist"
      ]
    },
    {
      "cell_type": "markdown",
      "metadata": {},
      "source": [
        "### 1.2 Singular Value Decomposition (SVD) - Theory\n",
        "\n",
        "SVD is a matrix factorization technique for a matrix $A \\in \\mathbb{C}^{m \\times n}$, expressed as:\n",
        "\n",
        "$$\n",
        "A = U \\Sigma V^H\n",
        "$$\n",
        "\n",
        "where:\n",
        "- $U$ is an orthogonal $m \\times m$ matrix with left singular vectors,\n",
        "- $\\Sigma$ is a diagonal $m \\times n$ matrix with non-negative singular values,\n",
        "- $V$ is an orthogonal $n \\times n$ matrix with right singular vectors.\n",
        "\n",
        "Key properties:\n",
        "- The columns of $U$ are eigenvectors of $A A^T$.\n",
        "- The columns of $V$ are eigenvectors of $A^T A$.\n",
        "- The diagonal elements of $\\Sigma$ are the singular values, corresponding to the square roots of the eigenvalues of $A A^T$ or $A^T A$.\n",
        "If $A \\in \\mathbb{R}^{m \\times n}$, the decomposition becomes: $A = U \\Sigma V^T$.\n",
        "\n",
        "### Geometric Interpretation\n",
        "\n",
        "The SVD represents a matrix transformation as a sequence of three operations:\n",
        "1. **Rotation by $V^T$**: Aligns the input space with the right singular vectors.\n",
        "2. **Scaling by $\\Sigma$**: Scales along axes defined by the singular vectors.\n",
        "3. **Rotation by $U$**: Rotates the output space to align with the left singular vectors.\n",
        "\n",
        "This decomposition helps in understanding and visualizing linear transformations.\n"
      ]
    },
    {
      "cell_type": "code",
      "execution_count": 1,
      "metadata": {},
      "outputs": [
        {
          "data": {
            "image/png": "[encoded data removed]",
            "text/plain": [
              "<Figure size 1600x400 with 4 Axes>"
            ]
          },
          "metadata": {},
          "output_type": "display_data"
        }
      ],
      "source": [
        "import numpy as np\n",
        "import matplotlib.pyplot as plt\n",
        "from mpl_toolkits.mplot3d.art3d import Poly3DCollection\n",
        "\n",
        "# Define face colors for consistency\n",
        "face_colors = [\n",
        "    (1, 0, 0, 0.6),  # Red\n",
        "    (0, 1, 0, 0.6),  # Green\n",
        "    (0, 0, 1, 0.6),  # Blue\n",
        "    (1, 1, 0, 0.6),  # Yellow\n",
        "    (1, 0, 1, 0.6),  # Magenta\n",
        "    (0, 1, 1, 0.6)   # Cyan\n",
        "]\n",
        "\n",
        "# Function to generate a 3D parallelepiped (unit cube)\n",
        "def generate_parallelepiped():\n",
        "    vertices = np.array([\n",
        "        [0, 0, 0], [1, 0, 0], [1, 1, 0], [0, 1, 0],  # Bottom face\n",
        "        [0, 0, 1], [1, 0, 1], [1, 1, 1], [0, 1, 1]   # Top face\n",
        "    ])\n",
        "    return vertices - 0.5  # Center the parallelepiped\n",
        "\n",
        "# Function to apply a linear transformation to vertices\n",
        "def apply_transformation(vertices, matrix):\n",
        "    return np.dot(vertices, matrix.T)\n",
        "\n",
        "# Function to plot a colored parallelepiped in 3D\n",
        "def plot_parallelepiped_3d(ax, vertices, title):\n",
        "    faces = [\n",
        "        [vertices[0], vertices[1], vertices[2], vertices[3]],  # Bottom face\n",
        "        [vertices[4], vertices[5], vertices[6], vertices[7]],  # Top face\n",
        "        [vertices[0], vertices[1], vertices[5], vertices[4]],  # Side face\n",
        "        [vertices[2], vertices[3], vertices[7], vertices[6]],  # Side face\n",
        "        [vertices[1], vertices[2], vertices[6], vertices[5]],  # Side face\n",
        "        [vertices[4], vertices[7], vertices[3], vertices[0]]   # Side face\n",
        "    ]\n",
        "    poly3d = Poly3DCollection(faces, facecolors=face_colors, linewidths=1, edgecolors='k')\n",
        "    ax.add_collection3d(poly3d)\n",
        "\n",
        "    ax.set_title(title, fontsize=10)\n",
        "    ax.set_xlim([-1, 1])\n",
        "    ax.set_ylim([-1, 1])\n",
        "    ax.set_zlim([-1, 1])\n",
        "    ax.view_init(elev=20, azim=30)  # Rotate POV slightly\n",
        "    ax.set_xlabel(\"X\")\n",
        "    ax.set_ylabel(\"Y\")\n",
        "    ax.set_zlabel(\"Z\")\n",
        "\n",
        "# Function to plot a transformation in 2D with colors\n",
        "def plot_parallelepiped_2d(ax, vertices, title):\n",
        "    ax.set_title(title, fontsize=10)\n",
        "    ax.set_xlim([-2, 2])\n",
        "    ax.set_ylim([-2, 2])\n",
        "    ax.set_xlabel(\"X\")\n",
        "    ax.set_ylabel(\"Y\")\n",
        "\n",
        "    # Get only the first two dimensions for 2D visualization\n",
        "    vertices_2d = vertices[:, :2]\n",
        "\n",
        "    # Define corresponding faces for 2D view\n",
        "    faces_2d = [\n",
        "        [vertices_2d[0], vertices_2d[1], vertices_2d[2], vertices_2d[3]],  # Bottom face\n",
        "        [vertices_2d[4], vertices_2d[5], vertices_2d[6], vertices_2d[7]],  # Top face\n",
        "        [vertices_2d[0], vertices_2d[1], vertices_2d[5], vertices_2d[4]],  # Side face\n",
        "        [vertices_2d[2], vertices_2d[3], vertices_2d[7], vertices_2d[6]],  # Side face\n",
        "        [vertices_2d[1], vertices_2d[2], vertices_2d[6], vertices_2d[5]],  # Side face\n",
        "        [vertices_2d[4], vertices_2d[7], vertices_2d[3], vertices_2d[0]]   # Side face\n",
        "    ]\n",
        "\n",
        "    # Plot each face with the corresponding color\n",
        "    for face, color in zip(faces_2d, face_colors):\n",
        "        face.append(face[0])  # Close the polygon\n",
        "        face = np.array(face)\n",
        "        ax.fill(face[:, 0], face[:, 1], color=color, edgecolor='k', linewidth=1)\n",
        "\n",
        "# Define an arbitrary transformation matrix (3x3 for mapping R3 to R3)\n",
        "A = np.array([[1, 2, 1], [0, 1, -1], [1, 0, 1]])\n",
        "\n",
        "# Perform SVD decomposition\n",
        "U, S, Vt = np.linalg.svd(A, full_matrices=False)\n",
        "\n",
        "# Matrices involved in the transformation\n",
        "rotation1 = Vt  # First rotation (Right singular vectors)\n",
        "scaling = np.diag(S)  # Scaling matrix (Singular values)\n",
        "rotation2 = U  # Second rotation (Left singular vectors)\n",
        "\n",
        "# Original parallelepiped\n",
        "vertices = generate_parallelepiped()\n",
        "\n",
        "# Apply transformations\n",
        "vertices_rot1 = apply_transformation(vertices, rotation1)  # Rotate (3D)\n",
        "vertices_projected = vertices_rot1[:, :2]  # Dimension Reduction (Drop Z)\n",
        "vertices_stretch = apply_transformation(vertices_projected, scaling[:2, :2])  # Stretch\n",
        "vertices_rot2 = apply_transformation(vertices_stretch, rotation2[:2, :2])  # Final Rotate\n",
        "\n",
        "# Plot results: 3D rotation, dimension reduction, 2D stretch, 2D final rotation\n",
        "fig = plt.figure(figsize=(16, 4))\n",
        "\n",
        "# First plot (3D): Rotate by right singular vectors\n",
        "ax1 = fig.add_subplot(141, projection='3d')\n",
        "plot_parallelepiped_3d(ax1, vertices_rot1, \"Rotate (Right Singular Vectors)\")\n",
        "\n",
        "# Second plot (2D): Dimension Reduction (Projection to 2D)\n",
        "ax2 = fig.add_subplot(142)\n",
        "plot_parallelepiped_2d(ax2, vertices_projected, \"Dimension Erase\")\n",
        "\n",
        "# Third plot (2D): Stretch by singular values\n",
        "ax3 = fig.add_subplot(143)\n",
        "plot_parallelepiped_2d(ax3, vertices_stretch, \"Stretch (Singular Values)\")\n",
        "\n",
        "# Fourth plot (2D): Rotate by left singular vectors\n",
        "ax4 = fig.add_subplot(144)\n",
        "plot_parallelepiped_2d(ax4, vertices_rot2, \"Rotate (Left Singular Vectors)\")\n",
        "\n",
        "plt.tight_layout()\n",
        "plt.show()"
      ]
    },
    {
      "cell_type": "markdown",
      "metadata": {},
      "source": [
        "## 2. Dataset preparation\n",
        "### 2.3 Loading the separate datasets\n",
        "// TODO: add description"
      ]
    },
    {
      "cell_type": "code",
      "execution_count": 2,
      "metadata": {},
      "outputs": [
        {
          "name": "stdout",
          "output_type": "stream",
          "text": [
            "Ratings:\n",
            "   UserID  MovieID  Rating  Timestamp\n",
            "0       1     1193       5  978300760\n",
            "1       1      661       3  978302109\n",
            "2       1      914       3  978301968\n",
            "3       1     3408       4  978300275\n",
            "4       1     2355       5  978824291\n",
            "\n",
            "Movies:\n",
            "   MovieID                               Title                        Genres\n",
            "0        1                    Toy Story (1995)   Animation|Children's|Comedy\n",
            "1        2                      Jumanji (1995)  Adventure|Children's|Fantasy\n",
            "2        3             Grumpier Old Men (1995)                Comedy|Romance\n",
            "3        4            Waiting to Exhale (1995)                  Comedy|Drama\n",
            "4        5  Father of the Bride Part II (1995)                        Comedy\n",
            "\n",
            "Users:\n",
            "   UserID Gender  Age  Occupation Zip-code\n",
            "0       1      F    1          10    48067\n",
            "1       2      M   56          16    70072\n",
            "2       3      M   25          15    55117\n",
            "3       4      M   45           7    02460\n",
            "4       5      M   25          20    55455\n"
          ]
        }
      ],
      "source": [
        "import pandas as pd\n",
        "import matplotlib.pyplot as plt\n",
        "import time\n",
        "import wordcloud\n",
        "\n",
        "# Load ratings.dat\n",
        "ratings = pd.read_csv(\n",
        "    'MovieLens1M/ratings.dat', \n",
        "    sep='::', \n",
        "    engine='python', \n",
        "    names=['UserID', 'MovieID', 'Rating', 'Timestamp'],\n",
        "    encoding='ISO-8859-1'\n",
        ")\n",
        "\n",
        "# Load movies.dat\n",
        "movies = pd.read_csv(\n",
        "    'MovieLens1M/movies.dat', \n",
        "    sep='::', \n",
        "    engine='python', \n",
        "    names=['MovieID', 'Title', 'Genres'],\n",
        "    encoding='ISO-8859-1'\n",
        ")\n",
        "\n",
        "# Load users.dat\n",
        "users = pd.read_csv(\n",
        "    'MovieLens1M/users.dat', \n",
        "    sep='::', \n",
        "    engine='python', \n",
        "    names=['UserID', 'Gender', 'Age', 'Occupation', 'Zip-code'],\n",
        "    encoding='ISO-8859-1'\n",
        ")\n",
        "\n",
        "# Display the first few rows\n",
        "print(\"Ratings:\")\n",
        "print(ratings.head())\n",
        "print(\"\\nMovies:\")\n",
        "print(movies.head())\n",
        "print(\"\\nUsers:\")\n",
        "print(users.head())\n"
      ]
    },
    {
      "cell_type": "markdown",
      "metadata": {},
      "source": [
        "### 2.2 Merge DataFrames\n",
        "We’ll merge the ratings, movies, and users DataFrames to create a single dataset for analysis."
      ]
    },
    {
      "cell_type": "code",
      "execution_count": 3,
      "metadata": {},
      "outputs": [
        {
          "name": "stdout",
          "output_type": "stream",
          "text": [
            "Merged Data:\n"
          ]
        },
        {
          "data": {
            "text/html": [
              "<div>\n",
              "<style scoped>\n",
              "    .dataframe tbody tr th:only-of-type {\n",
              "        vertical-align: middle;\n",
              "    }\n",
              "\n",
              "    .dataframe tbody tr th {\n",
              "        vertical-align: top;\n",
              "    }\n",
              "\n",
              "    .dataframe thead th {\n",
              "        text-align: right;\n",
              "    }\n",
              "</style>\n",
              "<table border=\"1\" class=\"dataframe\">\n",
              "  <thead>\n",
              "    <tr style=\"text-align: right;\">\n",
              "      <th></th>\n",
              "      <th>UserID</th>\n",
              "      <th>MovieID</th>\n",
              "      <th>Rating</th>\n",
              "      <th>Timestamp</th>\n",
              "      <th>Title</th>\n",
              "      <th>Genres</th>\n",
              "      <th>Gender</th>\n",
              "      <th>Age</th>\n",
              "      <th>Occupation</th>\n",
              "      <th>Zip-code</th>\n",
              "    </tr>\n",
              "  </thead>\n",
              "  <tbody>\n",
              "    <tr>\n",
              "      <th>0</th>\n",
              "      <td>1</td>\n",
              "      <td>1193</td>\n",
              "      <td>5</td>\n",
              "      <td>978300760</td>\n",
              "      <td>One Flew Over the Cuckoo's Nest (1975)</td>\n",
              "      <td>Drama</td>\n",
              "      <td>F</td>\n",
              "      <td>1</td>\n",
              "      <td>10</td>\n",
              "      <td>48067</td>\n",
              "    </tr>\n",
              "    <tr>\n",
              "      <th>1</th>\n",
              "      <td>1</td>\n",
              "      <td>661</td>\n",
              "      <td>3</td>\n",
              "      <td>978302109</td>\n",
              "      <td>James and the Giant Peach (1996)</td>\n",
              "      <td>Animation|Children's|Musical</td>\n",
              "      <td>F</td>\n",
              "      <td>1</td>\n",
              "      <td>10</td>\n",
              "      <td>48067</td>\n",
              "    </tr>\n",
              "    <tr>\n",
              "      <th>2</th>\n",
              "      <td>1</td>\n",
              "      <td>914</td>\n",
              "      <td>3</td>\n",
              "      <td>978301968</td>\n",
              "      <td>My Fair Lady (1964)</td>\n",
              "      <td>Musical|Romance</td>\n",
              "      <td>F</td>\n",
              "      <td>1</td>\n",
              "      <td>10</td>\n",
              "      <td>48067</td>\n",
              "    </tr>\n",
              "    <tr>\n",
              "      <th>3</th>\n",
              "      <td>1</td>\n",
              "      <td>3408</td>\n",
              "      <td>4</td>\n",
              "      <td>978300275</td>\n",
              "      <td>Erin Brockovich (2000)</td>\n",
              "      <td>Drama</td>\n",
              "      <td>F</td>\n",
              "      <td>1</td>\n",
              "      <td>10</td>\n",
              "      <td>48067</td>\n",
              "    </tr>\n",
              "    <tr>\n",
              "      <th>4</th>\n",
              "      <td>1</td>\n",
              "      <td>2355</td>\n",
              "      <td>5</td>\n",
              "      <td>978824291</td>\n",
              "      <td>Bug's Life, A (1998)</td>\n",
              "      <td>Animation|Children's|Comedy</td>\n",
              "      <td>F</td>\n",
              "      <td>1</td>\n",
              "      <td>10</td>\n",
              "      <td>48067</td>\n",
              "    </tr>\n",
              "  </tbody>\n",
              "</table>\n",
              "</div>"
            ],
            "text/plain": [
              "   UserID  MovieID  Rating  Timestamp                                   Title  \\\n",
              "0       1     1193       5  978300760  One Flew Over the Cuckoo's Nest (1975)   \n",
              "1       1      661       3  978302109        James and the Giant Peach (1996)   \n",
              "2       1      914       3  978301968                     My Fair Lady (1964)   \n",
              "3       1     3408       4  978300275                  Erin Brockovich (2000)   \n",
              "4       1     2355       5  978824291                    Bug's Life, A (1998)   \n",
              "\n",
              "                         Genres Gender  Age  Occupation Zip-code  \n",
              "0                         Drama      F    1          10    48067  \n",
              "1  Animation|Children's|Musical      F    1          10    48067  \n",
              "2               Musical|Romance      F    1          10    48067  \n",
              "3                         Drama      F    1          10    48067  \n",
              "4   Animation|Children's|Comedy      F    1          10    48067  "
            ]
          },
          "execution_count": 3,
          "metadata": {},
          "output_type": "execute_result"
        }
      ],
      "source": [
        "# Merge ratings with movies\n",
        "ratings_movies = pd.merge(ratings, movies, on='MovieID')\n",
        "\n",
        "# Merge the result with users\n",
        "full_data = pd.merge(ratings_movies, users, on='UserID')\n",
        "\n",
        "# Display the merged dataset\n",
        "print(\"Merged Data:\")\n",
        "full_data.head()"
      ]
    },
    {
      "cell_type": "markdown",
      "metadata": {},
      "source": [
        "## 3. Preprocessing\n",
        "In order to apply the SVD decomposition we need to preprocess the data in the dataset.\n",
        "### 3.1 Normalize ratings\n",
        "We normalize the ratings to ensure fair comparison across users.\n",
        "\n",
        "// TODO: normalize categorical data and encode textual"
      ]
    },
    {
      "cell_type": "code",
      "execution_count": 4,
      "metadata": {},
      "outputs": [
        {
          "name": "stdout",
          "output_type": "stream",
          "text": [
            "Normalized Ratings (mean=-4.7489856505553035e-17, std=1.000000499895897):\n"
          ]
        },
        {
          "data": {
            "text/html": [
              "<div>\n",
              "<style scoped>\n",
              "    .dataframe tbody tr th:only-of-type {\n",
              "        vertical-align: middle;\n",
              "    }\n",
              "\n",
              "    .dataframe tbody tr th {\n",
              "        vertical-align: top;\n",
              "    }\n",
              "\n",
              "    .dataframe thead th {\n",
              "        text-align: right;\n",
              "    }\n",
              "</style>\n",
              "<table border=\"1\" class=\"dataframe\">\n",
              "  <thead>\n",
              "    <tr style=\"text-align: right;\">\n",
              "      <th></th>\n",
              "      <th>Rating</th>\n",
              "      <th>Normalized_Rating</th>\n",
              "    </tr>\n",
              "  </thead>\n",
              "  <tbody>\n",
              "    <tr>\n",
              "      <th>0</th>\n",
              "      <td>5</td>\n",
              "      <td>1.269747</td>\n",
              "    </tr>\n",
              "    <tr>\n",
              "      <th>1</th>\n",
              "      <td>3</td>\n",
              "      <td>-0.520601</td>\n",
              "    </tr>\n",
              "    <tr>\n",
              "      <th>2</th>\n",
              "      <td>3</td>\n",
              "      <td>-0.520601</td>\n",
              "    </tr>\n",
              "    <tr>\n",
              "      <th>3</th>\n",
              "      <td>4</td>\n",
              "      <td>0.374573</td>\n",
              "    </tr>\n",
              "    <tr>\n",
              "      <th>4</th>\n",
              "      <td>5</td>\n",
              "      <td>1.269747</td>\n",
              "    </tr>\n",
              "  </tbody>\n",
              "</table>\n",
              "</div>"
            ],
            "text/plain": [
              "   Rating  Normalized_Rating\n",
              "0       5           1.269747\n",
              "1       3          -0.520601\n",
              "2       3          -0.520601\n",
              "3       4           0.374573\n",
              "4       5           1.269747"
            ]
          },
          "execution_count": 4,
          "metadata": {},
          "output_type": "execute_result"
        }
      ],
      "source": [
        "from sklearn.preprocessing import StandardScaler\n",
        "\n",
        "# Normalize the ratings\n",
        "scaler = StandardScaler()\n",
        "full_data['Normalized_Rating'] = scaler.fit_transform(full_data[['Rating']])\n",
        "\n",
        "print(f\"Normalized Ratings (mean={full_data['Normalized_Rating'].mean()}, std={full_data['Normalized_Rating'].std()}):\")\n",
        "full_data[['Rating', 'Normalized_Rating']].head()"
      ]
    },
    {
      "cell_type": "markdown",
      "metadata": {},
      "source": [
        "### 3.2 Filter data\n",
        "To reduce noise in the dataset we filtered out movies or users with very few ratings to reduce noise."
      ]
    },
    {
      "cell_type": "code",
      "execution_count": 5,
      "metadata": {},
      "outputs": [
        {
          "name": "stdout",
          "output_type": "stream",
          "text": [
            "Filtered Data:\n"
          ]
        },
        {
          "data": {
            "text/html": [
              "<div>\n",
              "<style scoped>\n",
              "    .dataframe tbody tr th:only-of-type {\n",
              "        vertical-align: middle;\n",
              "    }\n",
              "\n",
              "    .dataframe tbody tr th {\n",
              "        vertical-align: top;\n",
              "    }\n",
              "\n",
              "    .dataframe thead th {\n",
              "        text-align: right;\n",
              "    }\n",
              "</style>\n",
              "<table border=\"1\" class=\"dataframe\">\n",
              "  <thead>\n",
              "    <tr style=\"text-align: right;\">\n",
              "      <th></th>\n",
              "      <th>UserID</th>\n",
              "      <th>MovieID</th>\n",
              "      <th>Rating</th>\n",
              "      <th>Timestamp</th>\n",
              "      <th>Title</th>\n",
              "      <th>Genres</th>\n",
              "      <th>Gender</th>\n",
              "      <th>Age</th>\n",
              "      <th>Occupation</th>\n",
              "      <th>Zip-code</th>\n",
              "      <th>Normalized_Rating</th>\n",
              "    </tr>\n",
              "  </thead>\n",
              "  <tbody>\n",
              "    <tr>\n",
              "      <th>0</th>\n",
              "      <td>1</td>\n",
              "      <td>1193</td>\n",
              "      <td>5</td>\n",
              "      <td>978300760</td>\n",
              "      <td>One Flew Over the Cuckoo's Nest (1975)</td>\n",
              "      <td>Drama</td>\n",
              "      <td>F</td>\n",
              "      <td>1</td>\n",
              "      <td>10</td>\n",
              "      <td>48067</td>\n",
              "      <td>1.269747</td>\n",
              "    </tr>\n",
              "    <tr>\n",
              "      <th>1</th>\n",
              "      <td>1</td>\n",
              "      <td>661</td>\n",
              "      <td>3</td>\n",
              "      <td>978302109</td>\n",
              "      <td>James and the Giant Peach (1996)</td>\n",
              "      <td>Animation|Children's|Musical</td>\n",
              "      <td>F</td>\n",
              "      <td>1</td>\n",
              "      <td>10</td>\n",
              "      <td>48067</td>\n",
              "      <td>-0.520601</td>\n",
              "    </tr>\n",
              "    <tr>\n",
              "      <th>2</th>\n",
              "      <td>1</td>\n",
              "      <td>914</td>\n",
              "      <td>3</td>\n",
              "      <td>978301968</td>\n",
              "      <td>My Fair Lady (1964)</td>\n",
              "      <td>Musical|Romance</td>\n",
              "      <td>F</td>\n",
              "      <td>1</td>\n",
              "      <td>10</td>\n",
              "      <td>48067</td>\n",
              "      <td>-0.520601</td>\n",
              "    </tr>\n",
              "    <tr>\n",
              "      <th>3</th>\n",
              "      <td>1</td>\n",
              "      <td>3408</td>\n",
              "      <td>4</td>\n",
              "      <td>978300275</td>\n",
              "      <td>Erin Brockovich (2000)</td>\n",
              "      <td>Drama</td>\n",
              "      <td>F</td>\n",
              "      <td>1</td>\n",
              "      <td>10</td>\n",
              "      <td>48067</td>\n",
              "      <td>0.374573</td>\n",
              "    </tr>\n",
              "    <tr>\n",
              "      <th>4</th>\n",
              "      <td>1</td>\n",
              "      <td>2355</td>\n",
              "      <td>5</td>\n",
              "      <td>978824291</td>\n",
              "      <td>Bug's Life, A (1998)</td>\n",
              "      <td>Animation|Children's|Comedy</td>\n",
              "      <td>F</td>\n",
              "      <td>1</td>\n",
              "      <td>10</td>\n",
              "      <td>48067</td>\n",
              "      <td>1.269747</td>\n",
              "    </tr>\n",
              "  </tbody>\n",
              "</table>\n",
              "</div>"
            ],
            "text/plain": [
              "   UserID  MovieID  Rating  Timestamp                                   Title  \\\n",
              "0       1     1193       5  978300760  One Flew Over the Cuckoo's Nest (1975)   \n",
              "1       1      661       3  978302109        James and the Giant Peach (1996)   \n",
              "2       1      914       3  978301968                     My Fair Lady (1964)   \n",
              "3       1     3408       4  978300275                  Erin Brockovich (2000)   \n",
              "4       1     2355       5  978824291                    Bug's Life, A (1998)   \n",
              "\n",
              "                         Genres Gender  Age  Occupation Zip-code  \\\n",
              "0                         Drama      F    1          10    48067   \n",
              "1  Animation|Children's|Musical      F    1          10    48067   \n",
              "2               Musical|Romance      F    1          10    48067   \n",
              "3                         Drama      F    1          10    48067   \n",
              "4   Animation|Children's|Comedy      F    1          10    48067   \n",
              "\n",
              "   Normalized_Rating  \n",
              "0           1.269747  \n",
              "1          -0.520601  \n",
              "2          -0.520601  \n",
              "3           0.374573  \n",
              "4           1.269747  "
            ]
          },
          "execution_count": 5,
          "metadata": {},
          "output_type": "execute_result"
        }
      ],
      "source": [
        "# Filter out movies with less than 10 ratings\n",
        "movie_counts = full_data['MovieID'].value_counts()\n",
        "filtered_movies = movie_counts[movie_counts >= 10].index\n",
        "full_data = full_data[full_data['MovieID'].isin(filtered_movies)]\n",
        "\n",
        "# Filter out users with less than 10 ratings\n",
        "user_counts = full_data['UserID'].value_counts()\n",
        "filtered_users = user_counts[user_counts >= 10].index\n",
        "full_data = full_data[full_data['UserID'].isin(filtered_users)]\n",
        "\n",
        "print(\"Filtered Data:\")\n",
        "full_data.head()"
      ]
    },
    {
      "cell_type": "markdown",
      "metadata": {},
      "source": [
        "### 4. Data Matrix\n",
        "In order to apply SVD we transform the dataset into a  user-item matrix where rows are users, columns are movies, and values are ratings.\n",
        "\n",
        "// TODO: see if we can improve by using other data also"
      ]
    },
    {
      "cell_type": "code",
      "execution_count": 6,
      "metadata": {},
      "outputs": [],
      "source": [
        "from scipy.sparse.linalg import svds\n",
        "from sklearn.impute import SimpleImputer\n",
        "import numpy as np\n",
        "from sklearn.metrics.pairwise import cosine_similarity\n",
        "from scipy.cluster.hierarchy import linkage, leaves_list\n",
        "\n",
        "# Create user-item matrix\n",
        "min_val = full_data['Normalized_Rating'].min()\n",
        "max_val = full_data['Normalized_Rating'].max()\n",
        "\n",
        "# Handle the missing values by filling with the mean rating for each user\n",
        "user_item_matrix = full_data.pivot(index='UserID', columns='MovieID', values='Normalized_Rating')"
      ]
    },
    {
      "cell_type": "markdown",
      "metadata": {},
      "source": [
        "Since user-movie rating matrices are inherently sparse, handling missing values properly is crucial. We've observed that in general users tend to rate movies based on personal biases. Therefore, we decided to handle the missing values by user mean imputation to preserve their individual rating tendencies."
      ]
    },
    {
      "cell_type": "code",
      "execution_count": 7,
      "metadata": {},
      "outputs": [
        {
          "name": "stdout",
          "output_type": "stream",
          "text": [
            "User-Item Matrix Shape: (6040, 3260)\n"
          ]
        }
      ],
      "source": [
        "imp = SimpleImputer(strategy='mean')\n",
        "user_item_matrix = pd.DataFrame(imp.fit_transform(user_item_matrix.T).T, index=user_item_matrix.index, columns=user_item_matrix.columns)\n",
        "\n",
        "# Convert to numpy array\n",
        "matrix = user_item_matrix.values\n",
        "\n",
        "# Display the matrix shape\n",
        "print(\"User-Item Matrix Shape:\", matrix.shape)"
      ]
    },
    {
      "cell_type": "markdown",
      "metadata": {},
      "source": [
        "In order to device a more impactful procedure to predict the correct recomendations, we decided to sort the users in the user-item matrix so that the users with higher *cosine similarity* are adjacent:\n",
        "$$\n",
        "cos(x,y)=\\frac{x\\cdot y}{||x||||y||}\n",
        "$$\n",
        "To do so, we performed hierarchical clustering on the users and selected the subgroups produced to create such ordering"
      ]
    },
    {
      "cell_type": "code",
      "execution_count": 8,
      "metadata": {},
      "outputs": [],
      "source": [
        "# Compute cosine similarity between users\n",
        "user_similarity = cosine_similarity(user_item_matrix)\n",
        "\n",
        "# Perform hierarchical clustering\n",
        "\n",
        "# Use average linkage method for clustering\n",
        "linkage_matrix = linkage(user_similarity, method='average')\n",
        "\n",
        "# Get the order of users based on clustering\n",
        "user_order = leaves_list(linkage_matrix)\n",
        "\n",
        "# Reorder the user-item matrix based on the clustering\n",
        "user_item_matrix = user_item_matrix.iloc[user_order]"
      ]
    },
    {
      "cell_type": "markdown",
      "metadata": {},
      "source": [
        "## 5. Perform SVD\n",
        "We preform Singular Value Decomposition on the user-item matrix."
      ]
    },
    {
      "cell_type": "code",
      "execution_count": 9,
      "metadata": {},
      "outputs": [],
      "source": [
        "def power_method(A, v0, maxIter=1000, relTol=1e-6):    \n",
        "    v0 /= np.linalg.norm(v0)  # Normalize initial vector\n",
        "    l0 = 0  # Initial eigenvalue estimate\n",
        "\n",
        "    for k in range(maxIter):\n",
        "        v1 = A @ v0  # Matrix-vector multiplication\n",
        "        l1 = v0 @ v1  # Rayleigh quotient (approximating eigenvalue)\n",
        "        v1 /= np.linalg.norm(v1)  # Normalize eigenvector\n",
        "\n",
        "        # Convergence check\n",
        "        if np.abs(l1 - l0) < relTol * np.abs(l0):\n",
        "            return l1, v1  # Return converged eigenvalue and eigenvector\n",
        "\n",
        "        v0, l0 = v1, l1  # Update for next iteration\n",
        "\n",
        "    return l1, v1  # Return after maxIter"
      ]
    },
    {
      "cell_type": "markdown",
      "metadata": {},
      "source": [
        "### SVD using Deflation Method"
      ]
    },
    {
      "cell_type": "code",
      "execution_count": 10,
      "metadata": {},
      "outputs": [],
      "source": [
        "def svd_with_deflation(A, num_singular_values=1, maxIter=100, relTol=1e-6):\n",
        "\n",
        "    # Step 1: compute A^TA\n",
        "    ATA = np.dot(A.T, A)\n",
        "    A_current = ATA.copy()\n",
        "\n",
        "    singular_values = []\n",
        "    right_singular_vectors = []\n",
        "    Pmatrices = np.full((num_singular_values, ATA.shape[0], ATA.shape[0]), np.eye(ATA.shape[0]))\n",
        "\n",
        "    # Step 2: Eigenvalues computation with deflation method\n",
        "    for i in range(num_singular_values):\n",
        "        # Slice the current matrix for reduced dimension\n",
        "        A_reduced = A_current.copy()[i:, i:]\n",
        "\n",
        "        # Power iteration to find dominant singular value and vector\n",
        "        singular_value, singular_vector = power_method(A_reduced, np.random.rand(A_reduced.shape[0]), maxIter, relTol)\n",
        "\n",
        "        # Store the singular value\n",
        "        singular_values.append(np.sqrt(singular_value))\n",
        "\n",
        "        # Compute (singular_vector + e_i) / ||singular_vector + e_i|| to get the eigenvector of the original matrix\n",
        "        singular_vector = singular_vector.reshape(-1, 1)\n",
        "        e_i = np.zeros_like(singular_vector)\n",
        "        e_i[0] = 1\n",
        "        u = singular_vector + e_i\n",
        "        \n",
        "        singular_vector = singular_vector.flatten()\n",
        "        if i > 0:\n",
        "            # Transform the singular vector to the original space\n",
        "            original_singular_vector = np.zeros(ATA.shape[0])\n",
        "            original_singular_vector[i:] = singular_vector\n",
        "            P_from_i = np.eye(ATA.shape[0])\n",
        "            for j in range(i):\n",
        "                z = i-j\n",
        "                work_vector = original_singular_vector[z:]\n",
        "                bj = A_current.copy()[z-1, z:]\n",
        "                original_singular_vector[z-1] = (bj.T @ Pmatrices[z][z:,z:] @ work_vector)/(singular_values[i] - singular_values[z-1])\n",
        "                P_from_i = Pmatrices[z] @ P_from_i\n",
        "            P_from_i = Pmatrices[0] @ P_from_i\n",
        "            singular_vector = P_from_i @ original_singular_vector\n",
        "        right_singular_vectors.append(singular_vector)\n",
        "\n",
        "        # Compute the P_{i+1} matrix\n",
        "        Pi = np.eye(A_current.shape[0])\n",
        "        Pi[i:, i:] -= 2 * np.outer(u, u.T)/(np.linalg.norm(u)**2)\n",
        "        Pmatrices[i] = Pi\n",
        "\n",
        "        # Update A_current with deflation step A_current = P_i A_current P_i^T\n",
        "        A_current = Pi @ A_current @ Pi.T\n",
        "\n",
        "    # Step 3: Store the singular values and right singular vectors\n",
        "    Sigma = np.array(singular_values)\n",
        "    Vt = np.array(right_singular_vectors)\n",
        "\n",
        "    # Step 4: Compute the left singular vectors\n",
        "    U = np.zeros((A.shape[0], num_singular_values))\n",
        "    for i in range(num_singular_values):\n",
        "        U[:, i] = A @ Vt[i, :] / Sigma[i]\n",
        "\n",
        "    return U, np.diag(Sigma), Vt"
      ]
    },
    {
      "cell_type": "markdown",
      "metadata": {},
      "source": [
        "### SVD using Shifting Method"
      ]
    },
    {
      "cell_type": "code",
      "execution_count": 11,
      "metadata": {},
      "outputs": [],
      "source": [
        "def svd_with_shift(A, num_singular_values=1, maxIter=100, relTol=1e-6):\n",
        "\n",
        "    # Step 1: compute A^TA\n",
        "    ATA = np.dot(A.T, A)\n",
        "\n",
        "    singular_values = []\n",
        "    right_singular_vectors = []\n",
        "\n",
        "    # Step 2: Eigenvalues computation with deflation method\n",
        "    for _ in range(num_singular_values):\n",
        "        # Power iteration to find dominant singular value and vector\n",
        "        singular_value, singular_vector = power_method(ATA, np.random.rand(ATA.shape[1]), maxIter, relTol)\n",
        "\n",
        "        # Store the singular value and vector\n",
        "        singular_values.append(np.sqrt(singular_value))\n",
        "        right_singular_vectors.append(singular_vector)\n",
        "\n",
        "        # Deflation step\n",
        "        ATA = ATA - singular_value * np.outer(singular_vector, singular_vector)\n",
        "\n",
        "    # Step 3: Store the singular values and right singular vectors\n",
        "    Sigma = np.array(singular_values)\n",
        "    Vt = np.array(right_singular_vectors)\n",
        "\n",
        "    # Step 4: Compute the left singular vectors\n",
        "    U = np.zeros((A.shape[0], num_singular_values))\n",
        "    for i in range(num_singular_values):\n",
        "        U[:, i] = A @ Vt[i, :] / Sigma[i]\n",
        "\n",
        "    return U, np.diag(Sigma), Vt"
      ]
    },
    {
      "cell_type": "markdown",
      "metadata": {},
      "source": [
        "### Deflation vs Shifting comparison\n",
        "We've analyzed the complexity of these two algorithms and showed that:\n",
        "- **Deflation Method Complexity**: $$O(k^2 \\cdot n^2)$$\n",
        "- **Shifting Method Complexity**: $$O(k \\cdot n^2)$$\n",
        "Below, in the code, we run a quick demonstration of the validity of our assumptions. We use the svds method provided by scipy as reference to compare the results."
      ]
    },
    {
      "cell_type": "code",
      "execution_count": 12,
      "metadata": {},
      "outputs": [
        {
          "name": "stdout",
          "output_type": "stream",
          "text": [
            "Deflation SVD took 51.35 seconds - with MSE: 2.3500751525071194e-08\n",
            "Shift SVD took 2.15 seconds - with MSE: 0.002524353738954039\n"
          ]
        }
      ],
      "source": [
        "U, S, Vt = svds(matrix, k=10)\n",
        "# Sort the singular values in descending order\n",
        "sorted_indices = np.argsort(S)[::-1]  # Indices for sorting in descending order\n",
        "S = S[sorted_indices]           # Sort singular values\n",
        "U = U[:, sorted_indices]                # Reorder columns of U\n",
        "Vt = Vt[sorted_indices, :]              # Reorder rows of V^T\n",
        "\n",
        "start_deflation = time.time()\n",
        "U_deflation, S_deflation, Vt_deflation = svd_with_deflation(matrix, num_singular_values=10)\n",
        "end_deflation = time.time()\n",
        "\n",
        "start_shift = time.time()\n",
        "U_shift, S_shift, Vt_shift = svd_with_shift(matrix, num_singular_values=10)\n",
        "end_shift = time.time()\n",
        "\n",
        "print(f\"Deflation SVD took {end_deflation - start_deflation:.2f} seconds - with MSE: {np.mean((np.diag(S_deflation) - S)**2)}\")\n",
        "print(f\"Shift SVD took {end_shift - start_shift:.2f} seconds - with MSE: {np.mean((np.diag(S_shift) - S)**2)}\")"
      ]
    },
    {
      "cell_type": "markdown",
      "metadata": {},
      "source": [
        "This clearly shows that the Deflation method is more computationally expensive than the Shifting method. Therefore, we decided to use the second one from this point onward."
      ]
    },
    {
      "cell_type": "markdown",
      "metadata": {},
      "source": [
        "### 5.2 Selecting the number of Singular Values\n",
        "Singular Value Decomposition (SVD) can be used to reduce data dimensionality, since it provides the best low-rank linear approximation of a given matrix. This can be achieved considering that the magnitude of each singular value represents the \"*importance*\" of its relative component of the decomposition. Dimensionality reduction is achieved by selecting the largest $k$ singular values, where the choice of $k$ depends on the size and structure of the data.\n",
        "\n",
        "Given the SVD decomposition of a matrix $A$ of size $m \\times n$:\n",
        "\n",
        "$$A = U \\Sigma V^T,$$\n",
        "\n",
        "the reduced approximation of $A$ is:\n",
        "\n",
        "$$A_k = U_k \\Sigma_k V_k^T$$\n",
        "\n",
        "where:\n",
        "- $\\Sigma_k$ is a $k \\times k$ matrix, obtained by keeping only the first $k$ singular values,\n",
        "- $U_k$ is an $m \\times k$ matrix, obtained by keeping only the first $k$ columns of $U$,\n",
        "- $V_k^T$ is a $k \\times n$ matrix, obtained by keeping only the first $k$ rows of $V^T$.\n",
        "\n",
        "So, we are required to choose a value of $k$ such that we retain enough information to obtain an accurate prediction and, at the same time, we don't want to choose a value of $k$ too large which would retain too much of the original matrix, defeating the purpose of SVD-based dimensionality reduction.\n",
        "\n",
        "Therefore, we have decided to apply an **elbow method** and choose the value of $k$ in correspondence of the point where the gain in explained variance starts diminishing. This way we can properly balance variance retention and model generalization."
      ]
    },
    {
      "cell_type": "code",
      "execution_count": 13,
      "metadata": {},
      "outputs": [],
      "source": [
        "# We plot the significance of the singular values\n",
        "U, sigma, Vt = svd_with_shift(matrix, num_singular_values=500, maxIter=1000, relTol=1e-3)\n",
        "singular_values = np.diag(sigma)"
      ]
    },
    {
      "cell_type": "markdown",
      "metadata": {},
      "source": [
        "To find a reasonable value $k$ we plot the explained variance of the singular values."
      ]
    },
    {
      "cell_type": "code",
      "execution_count": 14,
      "metadata": {},
      "outputs": [
        {
          "name": "stderr",
          "output_type": "stream",
          "text": [
            "/var/folders/qh/3mmvvlx555q853z984k5s_kw0000gp/T/ipykernel_81739/3647539482.py:13: UserWarning: No artists with labels found to put in legend.  Note that artists whose label start with an underscore are ignored when legend() is called with no argument.\n",
            "  plt.legend()\n"
          ]
        },
        {
          "data": {
            "image/png": "[encoded data removed]",
            "text/plain": [
              "<Figure size 1000x600 with 1 Axes>"
            ]
          },
          "metadata": {},
          "output_type": "display_data"
        },
        {
          "name": "stdout",
          "output_type": "stream",
          "text": [
            "With k = 20 we explain at least 82.31% of the variance\n"
          ]
        }
      ],
      "source": [
        "total_variance = np.trace(matrix.T @ matrix)  # Sum of all squared singular values\n",
        "explained_variance_ratio = (singular_values**2) / total_variance\n",
        "cumulative_variance = np.cumsum(explained_variance_ratio)\n",
        "\n",
        "# Plot cumulative explained variance\n",
        "plt.figure(figsize=(10, 6))\n",
        "plt.plot(range(1, len(singular_values ) + 1), cumulative_variance)\n",
        "plt.ylim([0.77, 1])\n",
        "plt.title('Cumulative Explained Variance')\n",
        "plt.xlabel('Number of Singular Values')\n",
        "plt.ylabel('Cumulative Explained Variance')\n",
        "plt.grid(True)\n",
        "plt.legend()\n",
        "plt.show()\n",
        "\n",
        "k_optimal = 20\n",
        "print(f\"With k = {k_optimal} we explain at least {cumulative_variance[k_optimal-1]*100:.2f}% of the variance\")"
      ]
    },
    {
      "cell_type": "markdown",
      "metadata": {},
      "source": [
        "We derive that 82.3% of the total explained variance is contained in the first 20 singular values. Therefore we select k = 20."
      ]
    },
    {
      "cell_type": "code",
      "execution_count": 15,
      "metadata": {},
      "outputs": [
        {
          "name": "stdout",
          "output_type": "stream",
          "text": [
            "U shape: (6040, 20)\n",
            "Sigma shape: (20, 20)\n",
            "Vt shape: (20, 3260)\n"
          ]
        }
      ],
      "source": [
        "# Example SVD computation\n",
        "K = 20  # Number of latent features\n",
        "U1, sigma1, Vt1 = svds(matrix, k=K)  # k is the number of latent features\n",
        "\n",
        "# Sort the singular values in descending order\n",
        "sorted_indices = np.argsort(sigma1)[::-1]  # Indices for sorting in descending order\n",
        "sigma1 = sigma1[sorted_indices]           # Sort singular values\n",
        "U1 = U1[:, sorted_indices]                # Reorder columns of U\n",
        "Vt1 = Vt1[sorted_indices, :]              # Reorder rows of V^T\n",
        "\n",
        "# Convert sigma to a diagonal matrix\n",
        "sigma1 = np.diag(sigma1)\n",
        "\n",
        "# Print shapes for verification\n",
        "print(\"U shape:\", U1.shape)        # Should be (rows in matrix, k)\n",
        "print(\"Sigma shape:\", sigma1.shape)  # Should be (k, k)\n",
        "print(\"Vt shape:\", Vt1.shape)      # Should be (k, columns in matrix)"
      ]
    },
    {
      "cell_type": "code",
      "execution_count": 16,
      "metadata": {},
      "outputs": [
        {
          "name": "stdout",
          "output_type": "stream",
          "text": [
            "U shape: (6040, 20)\n",
            "Sigma shape: (20, 20)\n",
            "Vt shape: (20, 3260)\n",
            "SVD with shifting + 20 latent features has MSE: 0.8980363604263623\n"
          ]
        }
      ],
      "source": [
        "U = U[:,:K]\n",
        "sigma = sigma[:K,:K]\n",
        "Vt = Vt[:K,:]\n",
        "print(\"U shape:\", U.shape)        # Should be (rows in matrix, k)\n",
        "print(\"Sigma shape:\", sigma.shape)  # Should be (k, k)\n",
        "print(\"Vt shape:\", Vt.shape)\n",
        "print(f\"SVD with shifting + {K} latent features has MSE: {np.mean((np.diag(sigma) - np.diag(sigma1))**2)}\")"
      ]
    },
    {
      "cell_type": "markdown",
      "metadata": {},
      "source": [
        "From the given decomposition we can reconstruct the original matrix and in doing so predict the missing ratings"
      ]
    },
    {
      "cell_type": "code",
      "execution_count": 17,
      "metadata": {},
      "outputs": [
        {
          "name": "stdout",
          "output_type": "stream",
          "text": [
            "Predicted Ratings:\n"
          ]
        },
        {
          "data": {
            "text/html": [
              "<div>\n",
              "<style scoped>\n",
              "    .dataframe tbody tr th:only-of-type {\n",
              "        vertical-align: middle;\n",
              "    }\n",
              "\n",
              "    .dataframe tbody tr th {\n",
              "        vertical-align: top;\n",
              "    }\n",
              "\n",
              "    .dataframe thead th {\n",
              "        text-align: right;\n",
              "    }\n",
              "</style>\n",
              "<table border=\"1\" class=\"dataframe\">\n",
              "  <thead>\n",
              "    <tr style=\"text-align: right;\">\n",
              "      <th>MovieID</th>\n",
              "      <th>1</th>\n",
              "      <th>2</th>\n",
              "      <th>3</th>\n",
              "      <th>4</th>\n",
              "      <th>5</th>\n",
              "      <th>6</th>\n",
              "      <th>7</th>\n",
              "      <th>8</th>\n",
              "      <th>9</th>\n",
              "      <th>10</th>\n",
              "      <th>...</th>\n",
              "      <th>3942</th>\n",
              "      <th>3943</th>\n",
              "      <th>3945</th>\n",
              "      <th>3946</th>\n",
              "      <th>3947</th>\n",
              "      <th>3948</th>\n",
              "      <th>3949</th>\n",
              "      <th>3950</th>\n",
              "      <th>3951</th>\n",
              "      <th>3952</th>\n",
              "    </tr>\n",
              "    <tr>\n",
              "      <th>UserID</th>\n",
              "      <th></th>\n",
              "      <th></th>\n",
              "      <th></th>\n",
              "      <th></th>\n",
              "      <th></th>\n",
              "      <th></th>\n",
              "      <th></th>\n",
              "      <th></th>\n",
              "      <th></th>\n",
              "      <th></th>\n",
              "      <th></th>\n",
              "      <th></th>\n",
              "      <th></th>\n",
              "      <th></th>\n",
              "      <th></th>\n",
              "      <th></th>\n",
              "      <th></th>\n",
              "      <th></th>\n",
              "      <th></th>\n",
              "      <th></th>\n",
              "      <th></th>\n",
              "    </tr>\n",
              "  </thead>\n",
              "  <tbody>\n",
              "    <tr>\n",
              "      <th>1010</th>\n",
              "      <td>0.673199</td>\n",
              "      <td>0.545312</td>\n",
              "      <td>0.568376</td>\n",
              "      <td>0.555509</td>\n",
              "      <td>0.552132</td>\n",
              "      <td>0.518189</td>\n",
              "      <td>0.545796</td>\n",
              "      <td>0.543811</td>\n",
              "      <td>0.538986</td>\n",
              "      <td>0.512000</td>\n",
              "      <td>...</td>\n",
              "      <td>0.546069</td>\n",
              "      <td>0.540500</td>\n",
              "      <td>0.540986</td>\n",
              "      <td>0.540344</td>\n",
              "      <td>0.543873</td>\n",
              "      <td>0.545256</td>\n",
              "      <td>0.545029</td>\n",
              "      <td>0.547975</td>\n",
              "      <td>0.547422</td>\n",
              "      <td>0.543555</td>\n",
              "    </tr>\n",
              "    <tr>\n",
              "      <th>3180</th>\n",
              "      <td>0.335924</td>\n",
              "      <td>0.068839</td>\n",
              "      <td>0.116158</td>\n",
              "      <td>0.121754</td>\n",
              "      <td>0.134767</td>\n",
              "      <td>0.141134</td>\n",
              "      <td>0.137507</td>\n",
              "      <td>0.110926</td>\n",
              "      <td>0.113882</td>\n",
              "      <td>0.004551</td>\n",
              "      <td>...</td>\n",
              "      <td>0.122415</td>\n",
              "      <td>0.101731</td>\n",
              "      <td>0.100020</td>\n",
              "      <td>0.111448</td>\n",
              "      <td>0.111606</td>\n",
              "      <td>0.117788</td>\n",
              "      <td>0.116484</td>\n",
              "      <td>0.133963</td>\n",
              "      <td>0.122989</td>\n",
              "      <td>0.137558</td>\n",
              "    </tr>\n",
              "    <tr>\n",
              "      <th>3265</th>\n",
              "      <td>0.183968</td>\n",
              "      <td>0.249276</td>\n",
              "      <td>0.289628</td>\n",
              "      <td>0.302733</td>\n",
              "      <td>0.294544</td>\n",
              "      <td>0.319061</td>\n",
              "      <td>0.315218</td>\n",
              "      <td>0.294011</td>\n",
              "      <td>0.281364</td>\n",
              "      <td>0.307525</td>\n",
              "      <td>...</td>\n",
              "      <td>0.286903</td>\n",
              "      <td>0.292097</td>\n",
              "      <td>0.291952</td>\n",
              "      <td>0.299939</td>\n",
              "      <td>0.288372</td>\n",
              "      <td>0.244404</td>\n",
              "      <td>0.247180</td>\n",
              "      <td>0.288688</td>\n",
              "      <td>0.287615</td>\n",
              "      <td>0.263984</td>\n",
              "    </tr>\n",
              "    <tr>\n",
              "      <th>3389</th>\n",
              "      <td>0.601552</td>\n",
              "      <td>0.538027</td>\n",
              "      <td>0.569029</td>\n",
              "      <td>0.557944</td>\n",
              "      <td>0.562129</td>\n",
              "      <td>0.522053</td>\n",
              "      <td>0.551012</td>\n",
              "      <td>0.549896</td>\n",
              "      <td>0.544324</td>\n",
              "      <td>0.526483</td>\n",
              "      <td>...</td>\n",
              "      <td>0.554082</td>\n",
              "      <td>0.541908</td>\n",
              "      <td>0.552305</td>\n",
              "      <td>0.542096</td>\n",
              "      <td>0.548457</td>\n",
              "      <td>0.543438</td>\n",
              "      <td>0.533875</td>\n",
              "      <td>0.544564</td>\n",
              "      <td>0.545922</td>\n",
              "      <td>0.536925</td>\n",
              "    </tr>\n",
              "    <tr>\n",
              "      <th>1050</th>\n",
              "      <td>-0.291702</td>\n",
              "      <td>-0.420538</td>\n",
              "      <td>-0.474517</td>\n",
              "      <td>-0.414311</td>\n",
              "      <td>-0.428030</td>\n",
              "      <td>-0.342539</td>\n",
              "      <td>-0.480801</td>\n",
              "      <td>-0.386980</td>\n",
              "      <td>-0.373771</td>\n",
              "      <td>-0.426288</td>\n",
              "      <td>...</td>\n",
              "      <td>-0.401415</td>\n",
              "      <td>-0.398898</td>\n",
              "      <td>-0.392835</td>\n",
              "      <td>-0.418859</td>\n",
              "      <td>-0.392634</td>\n",
              "      <td>-0.413971</td>\n",
              "      <td>-0.297504</td>\n",
              "      <td>-0.408917</td>\n",
              "      <td>-0.387816</td>\n",
              "      <td>-0.402223</td>\n",
              "    </tr>\n",
              "  </tbody>\n",
              "</table>\n",
              "<p>5 rows × 3260 columns</p>\n",
              "</div>"
            ],
            "text/plain": [
              "MovieID      1         2         3         4         5         6         7     \\\n",
              "UserID                                                                          \n",
              "1010     0.673199  0.545312  0.568376  0.555509  0.552132  0.518189  0.545796   \n",
              "3180     0.335924  0.068839  0.116158  0.121754  0.134767  0.141134  0.137507   \n",
              "3265     0.183968  0.249276  0.289628  0.302733  0.294544  0.319061  0.315218   \n",
              "3389     0.601552  0.538027  0.569029  0.557944  0.562129  0.522053  0.551012   \n",
              "1050    -0.291702 -0.420538 -0.474517 -0.414311 -0.428030 -0.342539 -0.480801   \n",
              "\n",
              "MovieID      8         9         10    ...      3942      3943      3945  \\\n",
              "UserID                                 ...                                 \n",
              "1010     0.543811  0.538986  0.512000  ...  0.546069  0.540500  0.540986   \n",
              "3180     0.110926  0.113882  0.004551  ...  0.122415  0.101731  0.100020   \n",
              "3265     0.294011  0.281364  0.307525  ...  0.286903  0.292097  0.291952   \n",
              "3389     0.549896  0.544324  0.526483  ...  0.554082  0.541908  0.552305   \n",
              "1050    -0.386980 -0.373771 -0.426288  ... -0.401415 -0.398898 -0.392835   \n",
              "\n",
              "MovieID      3946      3947      3948      3949      3950      3951      3952  \n",
              "UserID                                                                         \n",
              "1010     0.540344  0.543873  0.545256  0.545029  0.547975  0.547422  0.543555  \n",
              "3180     0.111448  0.111606  0.117788  0.116484  0.133963  0.122989  0.137558  \n",
              "3265     0.299939  0.288372  0.244404  0.247180  0.288688  0.287615  0.263984  \n",
              "3389     0.542096  0.548457  0.543438  0.533875  0.544564  0.545922  0.536925  \n",
              "1050    -0.418859 -0.392634 -0.413971 -0.297504 -0.408917 -0.387816 -0.402223  \n",
              "\n",
              "[5 rows x 3260 columns]"
            ]
          },
          "execution_count": 17,
          "metadata": {},
          "output_type": "execute_result"
        }
      ],
      "source": [
        "# Reconstruct the predicted matrix as A = U * sigma * Vt\n",
        "predicted_matrix = np.dot(np.dot(U, sigma), Vt)\n",
        "\n",
        "# Convert back to a DataFrame\n",
        "predicted_ratings = pd.DataFrame(predicted_matrix, index=user_item_matrix.index, columns=user_item_matrix.columns)\n",
        "\n",
        "print(\"Predicted Ratings:\")\n",
        "predicted_ratings.head()"
      ]
    },
    {
      "cell_type": "markdown",
      "metadata": {},
      "source": [
        "## 6. Recommend Movies\n",
        "Based on the matrix of predictions we just computed we can recommend top-rated movies based on predicted ratings"
      ]
    },
    {
      "cell_type": "code",
      "execution_count": 18,
      "metadata": {},
      "outputs": [],
      "source": [
        "from wordcloud import WordCloud\n",
        "\n",
        "def plot_genre_wordcloud(user_id, original_data):\n",
        "    # Filter the data for the given user\n",
        "    user_data = original_data[original_data['UserID'] == user_id]\n",
        "\n",
        "    # Calculate the average rating for each genre\n",
        "    genre_ratings = {}\n",
        "    for genres, rating in zip(user_data['Genres'], user_data['Rating']):\n",
        "        for genre in genres.split('|'):\n",
        "            if genre in genre_ratings:\n",
        "                genre_ratings[genre].append(rating)\n",
        "            else:\n",
        "                genre_ratings[genre] = [rating]\n",
        "\n",
        "    # Calculate the average rating for each genre\n",
        "    avg_genre_ratings = {genre: sum(ratings) / len(ratings) for genre, ratings in genre_ratings.items()}\n",
        "\n",
        "    # Generate the word cloud\n",
        "    wordcloud = WordCloud(width=800, height=400, background_color='white').generate_from_frequencies(avg_genre_ratings)\n",
        "\n",
        "    # Plot the word cloud\n",
        "    plt.figure(figsize=(7, 5))\n",
        "    plt.imshow(wordcloud, interpolation='bilinear')\n",
        "    plt.axis('off')\n",
        "    plt.title(f'Genre WordCloud for User {user_id}')\n",
        "    plt.show()"
      ]
    },
    {
      "cell_type": "code",
      "execution_count": 19,
      "metadata": {},
      "outputs": [],
      "source": [
        "def recommend_movies(user_id, predicted_ratings, original_data, num_recommendations=5):\n",
        "    user_row = predicted_ratings.loc[user_id].sort_values(ascending=False)\n",
        "\n",
        "    # Exclude movies the user has already rated\n",
        "    rated_movies = original_data[original_data['UserID'] == user_id]['MovieID']\n",
        "    recommendations = user_row[~user_row.index.isin(rated_movies)].head(num_recommendations)\n",
        "\n",
        "    # Map back to movie titles and sort by predicted rating\n",
        "    recommended_movies = movies[movies['MovieID'].isin(recommendations.index)]\n",
        "    recommended_movies = recommended_movies.set_index('MovieID').loc[recommendations.index].reset_index()\n",
        "    return recommended_movies"
      ]
    },
    {
      "cell_type": "code",
      "execution_count": 22,
      "metadata": {},
      "outputs": [
        {
          "name": "stdout",
          "output_type": "stream",
          "text": [
            "The user 2 has the following tastes:\n"
          ]
        },
        {
          "data": {
            "image/png": "[encoded data removed]",
            "text/plain": [
              "<Figure size 700x500 with 1 Axes>"
            ]
          },
          "metadata": {},
          "output_type": "display_data"
        },
        {
          "name": "stdout",
          "output_type": "stream",
          "text": [
            "Recommended Movies for User 2:\n"
          ]
        },
        {
          "data": {
            "text/html": [
              "<div>\n",
              "<style scoped>\n",
              "    .dataframe tbody tr th:only-of-type {\n",
              "        vertical-align: middle;\n",
              "    }\n",
              "\n",
              "    .dataframe tbody tr th {\n",
              "        vertical-align: top;\n",
              "    }\n",
              "\n",
              "    .dataframe thead th {\n",
              "        text-align: right;\n",
              "    }\n",
              "</style>\n",
              "<table border=\"1\" class=\"dataframe\">\n",
              "  <thead>\n",
              "    <tr style=\"text-align: right;\">\n",
              "      <th></th>\n",
              "      <th>MovieID</th>\n",
              "      <th>Title</th>\n",
              "      <th>Genres</th>\n",
              "    </tr>\n",
              "  </thead>\n",
              "  <tbody>\n",
              "    <tr>\n",
              "      <th>0</th>\n",
              "      <td>260</td>\n",
              "      <td>Star Wars: Episode IV - A New Hope (1977)</td>\n",
              "      <td>Action|Adventure|Fantasy|Sci-Fi</td>\n",
              "    </tr>\n",
              "    <tr>\n",
              "      <th>1</th>\n",
              "      <td>924</td>\n",
              "      <td>2001: A Space Odyssey (1968)</td>\n",
              "      <td>Drama|Mystery|Sci-Fi|Thriller</td>\n",
              "    </tr>\n",
              "    <tr>\n",
              "      <th>2</th>\n",
              "      <td>858</td>\n",
              "      <td>Godfather, The (1972)</td>\n",
              "      <td>Action|Crime|Drama</td>\n",
              "    </tr>\n",
              "    <tr>\n",
              "      <th>3</th>\n",
              "      <td>541</td>\n",
              "      <td>Blade Runner (1982)</td>\n",
              "      <td>Film-Noir|Sci-Fi</td>\n",
              "    </tr>\n",
              "    <tr>\n",
              "      <th>4</th>\n",
              "      <td>750</td>\n",
              "      <td>Dr. Strangelove or: How I Learned to Stop Worr...</td>\n",
              "      <td>Sci-Fi|War</td>\n",
              "    </tr>\n",
              "  </tbody>\n",
              "</table>\n",
              "</div>"
            ],
            "text/plain": [
              "   MovieID                                              Title  \\\n",
              "0      260          Star Wars: Episode IV - A New Hope (1977)   \n",
              "1      924                       2001: A Space Odyssey (1968)   \n",
              "2      858                              Godfather, The (1972)   \n",
              "3      541                                Blade Runner (1982)   \n",
              "4      750  Dr. Strangelove or: How I Learned to Stop Worr...   \n",
              "\n",
              "                            Genres  \n",
              "0  Action|Adventure|Fantasy|Sci-Fi  \n",
              "1    Drama|Mystery|Sci-Fi|Thriller  \n",
              "2               Action|Crime|Drama  \n",
              "3                 Film-Noir|Sci-Fi  \n",
              "4                       Sci-Fi|War  "
            ]
          },
          "execution_count": 22,
          "metadata": {},
          "output_type": "execute_result"
        }
      ],
      "source": [
        "# Recommend movies for a specific user (e.g., user_id = 1)\n",
        "user_id = 2\n",
        "recommended_movies = recommend_movies(user_id, predicted_ratings, full_data, num_recommendations=5)\n",
        "\n",
        "print(f\"The user {user_id} has the following tastes:\")\n",
        "plot_genre_wordcloud(user_id, full_data)\n",
        "print(\"Recommended Movies for User {}:\".format(user_id))\n",
        "recommended_movies"
      ]
    },
    {
      "cell_type": "markdown",
      "metadata": {},
      "source": [
        "## 7. Evaluation\n",
        "//TODO: implement some MSE to evaluate our recomendations"
      ]
    },
    {
      "cell_type": "code",
      "execution_count": 23,
      "metadata": {},
      "outputs": [
        {
          "name": "stdout",
          "output_type": "stream",
          "text": [
            "RMSE: 0.18926911115244238\n"
          ]
        }
      ],
      "source": [
        "# Evaluate the model using RMSE\n",
        "from sklearn.metrics import mean_squared_error\n",
        "\n",
        "# Filter out NaN values\n",
        "predicted_ratings = predicted_ratings.fillna(0)\n",
        "\n",
        "# Calculate MSE\n",
        "rmse = np.sqrt(mean_squared_error(matrix, predicted_matrix))\n",
        "print(\"RMSE:\", rmse)"
      ]
    },
    {
      "cell_type": "markdown",
      "metadata": {},
      "source": [
        "# ANIME DATASET"
      ]
    },
    {
      "cell_type": "markdown",
      "metadata": {},
      "source": [
        "## Import data"
      ]
    },
    {
      "cell_type": "code",
      "execution_count": 24,
      "metadata": {},
      "outputs": [],
      "source": [
        "ratings = pd.read_csv(\n",
        "    'anime/rating.csv', \n",
        "    sep=',', \n",
        ")\n",
        "\n",
        "# Load movies.dat\n",
        "anime = pd.read_csv(\n",
        "    'anime/anime.csv', \n",
        "    usecols=['anime_id', 'name', 'genre'],\n",
        "    sep=',', \n",
        ")\n"
      ]
    },
    {
      "cell_type": "code",
      "execution_count": 25,
      "metadata": {},
      "outputs": [
        {
          "name": "stdout",
          "output_type": "stream",
          "text": [
            "Merged Data:\n"
          ]
        },
        {
          "data": {
            "text/html": [
              "<div>\n",
              "<style scoped>\n",
              "    .dataframe tbody tr th:only-of-type {\n",
              "        vertical-align: middle;\n",
              "    }\n",
              "\n",
              "    .dataframe tbody tr th {\n",
              "        vertical-align: top;\n",
              "    }\n",
              "\n",
              "    .dataframe thead th {\n",
              "        text-align: right;\n",
              "    }\n",
              "</style>\n",
              "<table border=\"1\" class=\"dataframe\">\n",
              "  <thead>\n",
              "    <tr style=\"text-align: right;\">\n",
              "      <th></th>\n",
              "      <th>user_id</th>\n",
              "      <th>anime_id</th>\n",
              "      <th>rating</th>\n",
              "      <th>name</th>\n",
              "      <th>genre</th>\n",
              "    </tr>\n",
              "  </thead>\n",
              "  <tbody>\n",
              "    <tr>\n",
              "      <th>0</th>\n",
              "      <td>1</td>\n",
              "      <td>20</td>\n",
              "      <td>-1</td>\n",
              "      <td>Naruto</td>\n",
              "      <td>Action, Comedy, Martial Arts, Shounen, Super P...</td>\n",
              "    </tr>\n",
              "    <tr>\n",
              "      <th>1</th>\n",
              "      <td>1</td>\n",
              "      <td>24</td>\n",
              "      <td>-1</td>\n",
              "      <td>School Rumble</td>\n",
              "      <td>Comedy, Romance, School, Shounen</td>\n",
              "    </tr>\n",
              "    <tr>\n",
              "      <th>2</th>\n",
              "      <td>1</td>\n",
              "      <td>79</td>\n",
              "      <td>-1</td>\n",
              "      <td>Shuffle!</td>\n",
              "      <td>Comedy, Drama, Ecchi, Fantasy, Harem, Magic, R...</td>\n",
              "    </tr>\n",
              "    <tr>\n",
              "      <th>3</th>\n",
              "      <td>1</td>\n",
              "      <td>226</td>\n",
              "      <td>-1</td>\n",
              "      <td>Elfen Lied</td>\n",
              "      <td>Action, Drama, Horror, Psychological, Romance,...</td>\n",
              "    </tr>\n",
              "    <tr>\n",
              "      <th>4</th>\n",
              "      <td>1</td>\n",
              "      <td>241</td>\n",
              "      <td>-1</td>\n",
              "      <td>Girls Bravo: First Season</td>\n",
              "      <td>Comedy, Ecchi, Fantasy, Harem, Romance, School</td>\n",
              "    </tr>\n",
              "  </tbody>\n",
              "</table>\n",
              "</div>"
            ],
            "text/plain": [
              "   user_id  anime_id  rating                       name  \\\n",
              "0        1        20      -1                     Naruto   \n",
              "1        1        24      -1              School Rumble   \n",
              "2        1        79      -1                   Shuffle!   \n",
              "3        1       226      -1                 Elfen Lied   \n",
              "4        1       241      -1  Girls Bravo: First Season   \n",
              "\n",
              "                                               genre  \n",
              "0  Action, Comedy, Martial Arts, Shounen, Super P...  \n",
              "1                   Comedy, Romance, School, Shounen  \n",
              "2  Comedy, Drama, Ecchi, Fantasy, Harem, Magic, R...  \n",
              "3  Action, Drama, Horror, Psychological, Romance,...  \n",
              "4     Comedy, Ecchi, Fantasy, Harem, Romance, School  "
            ]
          },
          "execution_count": 25,
          "metadata": {},
          "output_type": "execute_result"
        }
      ],
      "source": [
        "df = pd.merge(ratings, anime, on='anime_id')\n",
        "\n",
        "print(\"Merged Data:\")\n",
        "df.head()"
      ]
    },
    {
      "cell_type": "code",
      "execution_count": 27,
      "metadata": {},
      "outputs": [
        {
          "data": {
            "text/plain": [
              "(7813727, 5)"
            ]
          },
          "execution_count": 27,
          "metadata": {},
          "output_type": "execute_result"
        }
      ],
      "source": [
        "df.shape"
      ]
    },
    {
      "cell_type": "markdown",
      "metadata": {},
      "source": [
        "## Deal with missing information"
      ]
    },
    {
      "cell_type": "code",
      "execution_count": 28,
      "metadata": {},
      "outputs": [],
      "source": [
        "valid_ratings = df.loc[df['rating'] != -1, 'rating']\n",
        "min_val = valid_ratings.min()\n",
        "max_val = valid_ratings.max()\n",
        "\n",
        "replacement_value = (max_val - min_val) / 2 + 1\n",
        "\n",
        "df['rating'] = df['rating'].replace(-1, replacement_value)"
      ]
    },
    {
      "cell_type": "markdown",
      "metadata": {},
      "source": [
        "## Deal with duplicates"
      ]
    },
    {
      "cell_type": "code",
      "execution_count": 29,
      "metadata": {},
      "outputs": [
        {
          "data": {
            "text/plain": [
              "(7813720, 5)"
            ]
          },
          "execution_count": 29,
          "metadata": {},
          "output_type": "execute_result"
        }
      ],
      "source": [
        "df = df.groupby(['user_id', 'anime_id'], as_index=False).agg({\n",
        "    'rating': 'mean',  # Compute the mean of ratings\n",
        "    'name': 'first',   # Keep the first name (since names should be identical)\n",
        "    'genre': 'first'   # Keep the first genre (since genres should be identical)\n",
        "})\n",
        "df.shape"
      ]
    },
    {
      "cell_type": "markdown",
      "metadata": {},
      "source": [
        "## Normalize the ratings"
      ]
    },
    {
      "cell_type": "code",
      "execution_count": 30,
      "metadata": {},
      "outputs": [
        {
          "name": "stdout",
          "output_type": "stream",
          "text": [
            "Normalized Ratings (mean=2.0923841822775324e-16, std=1.0000000639900146):\n"
          ]
        }
      ],
      "source": [
        "from sklearn.preprocessing import StandardScaler\n",
        "scaler = StandardScaler()\n",
        "df['Normalized_Rating'] = scaler.fit_transform(df[['rating']])\n",
        "\n",
        "print(f\"Normalized Ratings (mean={df['Normalized_Rating'].mean()}, std={df['Normalized_Rating'].std()}):\")"
      ]
    },
    {
      "cell_type": "code",
      "execution_count": 31,
      "metadata": {},
      "outputs": [
        {
          "name": "stdout",
          "output_type": "stream",
          "text": [
            "User-Item Matrix Shape: (73515, 11197)\n"
          ]
        }
      ],
      "source": [
        "min_val = df['Normalized_Rating'].min()\n",
        "max_val = df['Normalized_Rating'].max()\n",
        "NaN_val = ((max_val - min_val) / 2)+1\n",
        "user_item_matrix = df.pivot(index='user_id', columns='anime_id', values='Normalized_Rating')\n",
        "\n",
        "matrix = user_item_matrix.values\n",
        "\n",
        "# Display the matrix shape\n",
        "print(\"User-Item Matrix Shape:\", matrix.shape)"
      ]
    },
    {
      "cell_type": "code",
      "execution_count": 32,
      "metadata": {},
      "outputs": [
        {
          "ename": "ValueError",
          "evalue": "array must not contain infs or NaNs",
          "output_type": "error",
          "traceback": [
            "\u001b[0;31m---------------------------------------------------------------------------\u001b[0m",
            "\u001b[0;31mValueError\u001b[0m                                Traceback (most recent call last)",
            "Cell \u001b[0;32mIn[32], line 2\u001b[0m\n\u001b[1;32m      1\u001b[0m \u001b[38;5;28;01mfrom\u001b[39;00m \u001b[38;5;21;01mscipy\u001b[39;00m\u001b[38;5;21;01m.\u001b[39;00m\u001b[38;5;21;01msparse\u001b[39;00m\u001b[38;5;21;01m.\u001b[39;00m\u001b[38;5;21;01mlinalg\u001b[39;00m \u001b[38;5;28;01mimport\u001b[39;00m svds\n\u001b[0;32m----> 2\u001b[0m U, sigma, Vt \u001b[38;5;241m=\u001b[39m \u001b[43msvds\u001b[49m\u001b[43m(\u001b[49m\u001b[43mmatrix\u001b[49m\u001b[43m,\u001b[49m\u001b[43m \u001b[49m\u001b[43mk\u001b[49m\u001b[38;5;241;43m=\u001b[39;49m\u001b[38;5;241;43m500\u001b[39;49m\u001b[43m)\u001b[49m\n",
            "File \u001b[0;32m/Library/Frameworks/Python.framework/Versions/3.12/lib/python3.12/site-packages/scipy/sparse/linalg/_eigen/_svds.py:529\u001b[0m, in \u001b[0;36msvds\u001b[0;34m(A, k, ncv, tol, which, v0, maxiter, return_singular_vectors, solver, random_state, options)\u001b[0m\n\u001b[1;32m    525\u001b[0m     \u001b[38;5;28;01mreturn\u001b[39;00m s[::\u001b[38;5;241m-\u001b[39m\u001b[38;5;241m1\u001b[39m]\n\u001b[1;32m    527\u001b[0m \u001b[38;5;66;03m# compute the left singular vectors of X and update the right ones\u001b[39;00m\n\u001b[1;32m    528\u001b[0m \u001b[38;5;66;03m# accordingly\u001b[39;00m\n\u001b[0;32m--> 529\u001b[0m u, s, vh \u001b[38;5;241m=\u001b[39m \u001b[43msvd\u001b[49m\u001b[43m(\u001b[49m\u001b[43mAv\u001b[49m\u001b[43m,\u001b[49m\u001b[43m \u001b[49m\u001b[43mfull_matrices\u001b[49m\u001b[38;5;241;43m=\u001b[39;49m\u001b[38;5;28;43;01mFalse\u001b[39;49;00m\u001b[43m,\u001b[49m\u001b[43m \u001b[49m\u001b[43moverwrite_a\u001b[49m\u001b[38;5;241;43m=\u001b[39;49m\u001b[38;5;28;43;01mTrue\u001b[39;49;00m\u001b[43m)\u001b[49m\n\u001b[1;32m    530\u001b[0m u \u001b[38;5;241m=\u001b[39m u[:, ::\u001b[38;5;241m-\u001b[39m\u001b[38;5;241m1\u001b[39m]\n\u001b[1;32m    531\u001b[0m s \u001b[38;5;241m=\u001b[39m s[::\u001b[38;5;241m-\u001b[39m\u001b[38;5;241m1\u001b[39m]\n",
            "File \u001b[0;32m/Library/Frameworks/Python.framework/Versions/3.12/lib/python3.12/site-packages/scipy/linalg/_decomp_svd.py:108\u001b[0m, in \u001b[0;36msvd\u001b[0;34m(a, full_matrices, compute_uv, overwrite_a, check_finite, lapack_driver)\u001b[0m\n\u001b[1;32m     13\u001b[0m \u001b[38;5;28;01mdef\u001b[39;00m \u001b[38;5;21msvd\u001b[39m(a, full_matrices\u001b[38;5;241m=\u001b[39m\u001b[38;5;28;01mTrue\u001b[39;00m, compute_uv\u001b[38;5;241m=\u001b[39m\u001b[38;5;28;01mTrue\u001b[39;00m, overwrite_a\u001b[38;5;241m=\u001b[39m\u001b[38;5;28;01mFalse\u001b[39;00m,\n\u001b[1;32m     14\u001b[0m         check_finite\u001b[38;5;241m=\u001b[39m\u001b[38;5;28;01mTrue\u001b[39;00m, lapack_driver\u001b[38;5;241m=\u001b[39m\u001b[38;5;124m'\u001b[39m\u001b[38;5;124mgesdd\u001b[39m\u001b[38;5;124m'\u001b[39m):\n\u001b[1;32m     15\u001b[0m \u001b[38;5;250m    \u001b[39m\u001b[38;5;124;03m\"\"\"\u001b[39;00m\n\u001b[1;32m     16\u001b[0m \u001b[38;5;124;03m    Singular Value Decomposition.\u001b[39;00m\n\u001b[1;32m     17\u001b[0m \n\u001b[0;32m   (...)\u001b[0m\n\u001b[1;32m    106\u001b[0m \n\u001b[1;32m    107\u001b[0m \u001b[38;5;124;03m    \"\"\"\u001b[39;00m\n\u001b[0;32m--> 108\u001b[0m     a1 \u001b[38;5;241m=\u001b[39m \u001b[43m_asarray_validated\u001b[49m\u001b[43m(\u001b[49m\u001b[43ma\u001b[49m\u001b[43m,\u001b[49m\u001b[43m \u001b[49m\u001b[43mcheck_finite\u001b[49m\u001b[38;5;241;43m=\u001b[39;49m\u001b[43mcheck_finite\u001b[49m\u001b[43m)\u001b[49m\n\u001b[1;32m    109\u001b[0m     \u001b[38;5;28;01mif\u001b[39;00m \u001b[38;5;28mlen\u001b[39m(a1\u001b[38;5;241m.\u001b[39mshape) \u001b[38;5;241m!=\u001b[39m \u001b[38;5;241m2\u001b[39m:\n\u001b[1;32m    110\u001b[0m         \u001b[38;5;28;01mraise\u001b[39;00m \u001b[38;5;167;01mValueError\u001b[39;00m(\u001b[38;5;124m'\u001b[39m\u001b[38;5;124mexpected matrix\u001b[39m\u001b[38;5;124m'\u001b[39m)\n",
            "File \u001b[0;32m/Library/Frameworks/Python.framework/Versions/3.12/lib/python3.12/site-packages/scipy/_lib/_util.py:321\u001b[0m, in \u001b[0;36m_asarray_validated\u001b[0;34m(a, check_finite, sparse_ok, objects_ok, mask_ok, as_inexact)\u001b[0m\n\u001b[1;32m    319\u001b[0m         \u001b[38;5;28;01mraise\u001b[39;00m \u001b[38;5;167;01mValueError\u001b[39;00m(\u001b[38;5;124m'\u001b[39m\u001b[38;5;124mmasked arrays are not supported\u001b[39m\u001b[38;5;124m'\u001b[39m)\n\u001b[1;32m    320\u001b[0m toarray \u001b[38;5;241m=\u001b[39m np\u001b[38;5;241m.\u001b[39masarray_chkfinite \u001b[38;5;28;01mif\u001b[39;00m check_finite \u001b[38;5;28;01melse\u001b[39;00m np\u001b[38;5;241m.\u001b[39masarray\n\u001b[0;32m--> 321\u001b[0m a \u001b[38;5;241m=\u001b[39m \u001b[43mtoarray\u001b[49m\u001b[43m(\u001b[49m\u001b[43ma\u001b[49m\u001b[43m)\u001b[49m\n\u001b[1;32m    322\u001b[0m \u001b[38;5;28;01mif\u001b[39;00m \u001b[38;5;129;01mnot\u001b[39;00m objects_ok:\n\u001b[1;32m    323\u001b[0m     \u001b[38;5;28;01mif\u001b[39;00m a\u001b[38;5;241m.\u001b[39mdtype \u001b[38;5;129;01mis\u001b[39;00m np\u001b[38;5;241m.\u001b[39mdtype(\u001b[38;5;124m'\u001b[39m\u001b[38;5;124mO\u001b[39m\u001b[38;5;124m'\u001b[39m):\n",
            "File \u001b[0;32m/Library/Frameworks/Python.framework/Versions/3.12/lib/python3.12/site-packages/numpy/lib/_function_base_impl.py:649\u001b[0m, in \u001b[0;36masarray_chkfinite\u001b[0;34m(a, dtype, order)\u001b[0m\n\u001b[1;32m    647\u001b[0m a \u001b[38;5;241m=\u001b[39m asarray(a, dtype\u001b[38;5;241m=\u001b[39mdtype, order\u001b[38;5;241m=\u001b[39morder)\n\u001b[1;32m    648\u001b[0m \u001b[38;5;28;01mif\u001b[39;00m a\u001b[38;5;241m.\u001b[39mdtype\u001b[38;5;241m.\u001b[39mchar \u001b[38;5;129;01min\u001b[39;00m typecodes[\u001b[38;5;124m'\u001b[39m\u001b[38;5;124mAllFloat\u001b[39m\u001b[38;5;124m'\u001b[39m] \u001b[38;5;129;01mand\u001b[39;00m \u001b[38;5;129;01mnot\u001b[39;00m np\u001b[38;5;241m.\u001b[39misfinite(a)\u001b[38;5;241m.\u001b[39mall():\n\u001b[0;32m--> 649\u001b[0m     \u001b[38;5;28;01mraise\u001b[39;00m \u001b[38;5;167;01mValueError\u001b[39;00m(\n\u001b[1;32m    650\u001b[0m         \u001b[38;5;124m\"\u001b[39m\u001b[38;5;124marray must not contain infs or NaNs\u001b[39m\u001b[38;5;124m\"\u001b[39m)\n\u001b[1;32m    651\u001b[0m \u001b[38;5;28;01mreturn\u001b[39;00m a\n",
            "\u001b[0;31mValueError\u001b[0m: array must not contain infs or NaNs"
          ]
        }
      ],
      "source": [
        "from scipy.sparse.linalg import svds\n",
        "U, sigma, Vt = svds(matrix, k=500)"
      ]
    },
    {
      "cell_type": "code",
      "execution_count": null,
      "metadata": {},
      "outputs": [],
      "source": [
        "# Compute total variance as the sum of squares of all singular values\n",
        "total_variance = np.trace(matrix.T @ matrix)\n",
        "explained_variance_ratio = (sigma**2) / total_variance\n",
        "cumulative_variance = np.cumsum(explained_variance_ratio)\n",
        "threshold = 0.995  # 99.5% of variance\n",
        "\n",
        "# Plot cumulative explained variance\n",
        "plt.figure(figsize=(10, 6))\n",
        "plt.plot(range(1, len(singular_values) + 1), cumulative_variance, marker='o')\n",
        "plt.title('Cumulative Explained Variance')\n",
        "plt.xlabel('Number of Singular Values')\n",
        "plt.ylabel('Cumulative Explained Variance')\n",
        "plt.axhline(y=threshold, color='r', linestyle='--', label=f\"Threshold at {threshold*100}% variance\")\n",
        "plt.grid(True)\n",
        "plt.legend()\n",
        "plt.show()\n",
        "\n",
        "# Compute the optimal number of singular values to explain at least 99.5% of the variance\n",
        "k_optimal = np.argmax(cumulative_variance >= threshold)+ 1\n",
        "print(f\"Optimal number of singular values to explain at least 99.5% of the variance: {k_optimal}\")\n"
      ]
    },
    {
      "cell_type": "code",
      "execution_count": null,
      "metadata": {},
      "outputs": [],
      "source": [
        "U = U[:,:K]\n",
        "sigma = sigma[:K,:K]\n",
        "Vt = Vt[:K,:]\n",
        "print(\"U shape:\", U.shape)        # Should be (rows in matrix, k)\n",
        "print(\"Sigma shape:\", sigma.shape)  # Should be (k, k)\n",
        "print(\"Vt shape:\", Vt.shape)\n",
        "print(f\"SVD with shifting + {K} latent features has MSE: {np.mean((np.diag(sigma) - np.diag(sigma1))**2)}\")"
      ]
    },
    {
      "cell_type": "code",
      "execution_count": null,
      "metadata": {},
      "outputs": [],
      "source": [
        "# Reconstruct the predicted matrix as A = U * sigma * Vt\n",
        "predicted_matrix = np.dot(np.dot(U, sigma), Vt)\n",
        "\n",
        "# Convert back to a DataFrame\n",
        "predicted_ratings = pd.DataFrame(predicted_matrix, index=user_item_matrix.index, columns=user_item_matrix.columns)\n",
        "\n",
        "print(\"Predicted Ratings:\")\n",
        "predicted_ratings.head()"
      ]
    },
    {
      "cell_type": "code",
      "execution_count": null,
      "metadata": {},
      "outputs": [],
      "source": [
        "def recommend_anime(user_id, predicted_ratings, original_data, num_recommendations=5):\n",
        "    user_row = predicted_ratings.loc[user_id].sort_values(ascending=False)\n",
        "\n",
        "    # Exclude movies the user has already rated\n",
        "    rated_anime = original_data[original_data['user_id'] == user_id]['anime_id']\n",
        "    recommendations = user_row[~user_row.index.isin(rated_anime)].head(num_recommendations)\n",
        "\n",
        "    # Map back to movie titles\n",
        "    recommended_anime = anime[anime['anime_id'].isin(recommendations.index)]\n",
        "    return recommended_anime\n",
        "\n",
        "# Recommend movies for a specific user (e.g., user_id = 1)\n",
        "user_id = 1\n",
        "recommended_anime = recommend_anime(user_id, predicted_ratings, full_data, num_recommendations=5)\n",
        "\n",
        "print(\"Recommended Movies for User {}:\".format(user_id))\n",
        "recommended_movies"
      ]
    },
    {
      "cell_type": "markdown",
      "metadata": {},
      "source": [
        "## 8. Conclusions\n",
        "// TODO: write conclusions"
      ]
    }
  ],
  "metadata": {
    "kernelspec": {
      "display_name": "Python 3",
      "language": "python",
      "name": "python3"
    },
    "language_info": {
      "codemirror_mode": {
        "name": "ipython",
        "version": 3
      },
      "file_extension": ".py",
      "mimetype": "text/x-python",
      "name": "python",
      "nbconvert_exporter": "python",
      "pygments_lexer": "ipython3",
      "version": "3.12.4"
    }
  },
  "nbformat": 4,
  "nbformat_minor": 2
}
